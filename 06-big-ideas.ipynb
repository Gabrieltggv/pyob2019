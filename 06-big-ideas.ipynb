{
 "cells": [
  {
   "cell_type": "markdown",
   "metadata": {},
   "source": [
    "# Big ideas\n",
    "\n",
    "## Alan Kay defines OOP\n",
    "\n",
    "[E-mail exchange](http://userpage.fu-berlin.de/~ram/pub/pub_jf47ht81Ht/doc_kay_oop_en) between Stefan Ram and Alan Kay in July, 2003. \n",
    "\n",
    ">> SR: What does \"object-oriented [programming]\" mean to you?\n",
    "\n",
    "> AK: OOP to me means only messaging, local retention and protection and hiding of state-process, and extreme late-binding of all things. It can be done in Smalltalk and in LISP. There are possibly other systems in which this is possible, but I'm not aware of them."
   ]
  },
  {
   "cell_type": "markdown",
   "metadata": {},
   "source": [
    "## A polyglot OOP book\n",
    "\n",
    "<img src=\"img/intro-oop-budd.jpg\" width=\"300\" title=\"cover of An Introduction to Object-Oriented Programming, 3e\">\n",
    "\n",
    "Tim Budd — [An Introduction to Object-Oriented Programming, 3e](http://web.engr.oregonstate.edu/~budd/Books/oopintro3e/info/ReadMe.html)\n",
    "\n",
    "Discussion and examples in:\n",
    "\n",
    "* C++\n",
    "* C#\n",
    "* CLOS (Lisp)\n",
    "* Delphi/Object Pascal\n",
    "* Java\n",
    "* Python\n",
    "* Ruby\n",
    "* Smalltalk"
   ]
  },
  {
   "cell_type": "markdown",
   "metadata": {},
   "source": [
    "### The Object-Oriented 8 Queens\n",
    "\n",
    "* no \"God class\"\n",
    "* ``Queen`` objects collaborate to find the solution\n",
    "* ``Guard`` leverages duck typing and polymorphism to simplify the solution\n",
    "* solutions in [Java, C++, and Object Pascal](http://web.engr.oregonstate.edu/~budd/Books/oopintro2e/info/queens/)\n",
    "* solution in [Python](https://github.com/ramalho/pyob/tree/master/examples/8queens)"
   ]
  }
 ],
 "metadata": {
  "kernelspec": {
   "display_name": "Python 3",
   "language": "python",
   "name": "python3"
  },
  "language_info": {
   "codemirror_mode": {
    "name": "ipython",
    "version": 3
   },
   "file_extension": ".py",
   "mimetype": "text/x-python",
   "name": "python",
   "nbconvert_exporter": "python",
   "pygments_lexer": "ipython3",
   "version": "3.7.3"
  }
 },
 "nbformat": 4,
 "nbformat_minor": 2
}
