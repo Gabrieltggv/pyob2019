{
 "cells": [
  {
   "cell_type": "markdown",
   "metadata": {},
   "source": [
    "# Data classes\n",
    "\n",
    "In this section we will see Python features to avoid boilerplate when creating classes that are essentially collections of fields, similar to a C struct or a database record.\n",
    "\n",
    "* ``collections.namedtuple``\n",
    "* ``typing.NamedTuple``\n",
    "* ``dataclasses.dataclass``"
   ]
  },
  {
   "cell_type": "markdown",
   "metadata": {},
   "source": [
    "## collections.nametuple"
   ]
  },
  {
   "cell_type": "code",
   "execution_count": 1,
   "metadata": {},
   "outputs": [
    {
     "data": {
      "text/plain": [
       "Coordinate(lat=41.4, long=-81.85)"
      ]
     },
     "execution_count": 1,
     "metadata": {},
     "output_type": "execute_result"
    }
   ],
   "source": [
    "from collections import namedtuple\n",
    "\n",
    "Coordinate = namedtuple('Coordinate', 'lat long')\n",
    "cle = Coordinate(41.40, -81.85)\n",
    "cle"
   ]
  },
  {
   "cell_type": "markdown",
   "metadata": {},
   "source": [
    "Simple to use, and is a tuple, so you can do this:"
   ]
  },
  {
   "cell_type": "code",
   "execution_count": 2,
   "metadata": {},
   "outputs": [
    {
     "data": {
      "text/plain": [
       "41.4"
      ]
     },
     "execution_count": 2,
     "metadata": {},
     "output_type": "execute_result"
    }
   ],
   "source": [
    "latitude, longitude = cle\n",
    "latitude"
   ]
  },
  {
   "cell_type": "code",
   "execution_count": 3,
   "metadata": {},
   "outputs": [
    {
     "data": {
      "text/plain": [
       "-81.85"
      ]
     },
     "execution_count": 3,
     "metadata": {},
     "output_type": "execute_result"
    }
   ],
   "source": [
    "longitude"
   ]
  },
  {
   "cell_type": "markdown",
   "metadata": {},
   "source": [
    "Includes ``__eq__`` that knows how to compare with tuples:"
   ]
  },
  {
   "cell_type": "code",
   "execution_count": 4,
   "metadata": {},
   "outputs": [
    {
     "data": {
      "text/plain": [
       "True"
      ]
     },
     "execution_count": 4,
     "metadata": {},
     "output_type": "execute_result"
    }
   ],
   "source": [
    "(latitude, longitude) == cle"
   ]
  },
  {
   "cell_type": "markdown",
   "metadata": {},
   "source": [
    "## namedtuple limitations\n",
    "\n",
    "* instances are immutable;\n",
    "* no simple way to implement custom methods."
   ]
  },
  {
   "cell_type": "markdown",
   "metadata": {},
   "source": [
    "## typing.NamedTuple\n",
    "\n",
    "Introduced in Python 3.5, with [PEP 526](https://www.python.org/dev/peps/pep-0526) variable annotation syntax added in Python 3.6."
   ]
  },
  {
   "cell_type": "code",
   "execution_count": 21,
   "metadata": {},
   "outputs": [],
   "source": [
    "from typing import NamedTuple\n",
    "\n",
    "class Coordinate(NamedTuple):\n",
    "\n",
    "    lat: float = 0\n",
    "    long: float = 0\n",
    "        \n",
    "    reference_system = 'WGS84'\n",
    "\n",
    "    def __str__(self):\n",
    "        ns = 'NS'[self.lat < 0]\n",
    "        we = 'EW'[self.long < 0]\n",
    "        return f'{abs(self.lat):.1f}°{ns}, {abs(self.long):.1f}°{we}'"
   ]
  },
  {
   "cell_type": "code",
   "execution_count": 22,
   "metadata": {},
   "outputs": [
    {
     "data": {
      "text/plain": [
       "Coordinate(lat=0, long=0)"
      ]
     },
     "execution_count": 22,
     "metadata": {},
     "output_type": "execute_result"
    }
   ],
   "source": [
    "gulf_of_guinea = Coordinate()\n",
    "gulf_of_guinea"
   ]
  },
  {
   "cell_type": "code",
   "execution_count": 7,
   "metadata": {},
   "outputs": [
    {
     "data": {
      "text/plain": [
       "mappingproxy({'__doc__': 'Coordinate(lat, long)',\n",
       "              '__slots__': (),\n",
       "              '_fields': ('lat', 'long'),\n",
       "              '_fields_defaults': {},\n",
       "              '__new__': <staticmethod at 0x10bc617b8>,\n",
       "              '_make': <classmethod at 0x10bc616d8>,\n",
       "              '_replace': <function collections.Coordinate._replace(_self, **kwds)>,\n",
       "              '__repr__': <function collections.Coordinate.__repr__(self)>,\n",
       "              '_asdict': <function collections.Coordinate._asdict(self)>,\n",
       "              '__getnewargs__': <function collections.Coordinate.__getnewargs__(self)>,\n",
       "              'lat': <property at 0x10bc56868>,\n",
       "              'long': <property at 0x10bc568b8>,\n",
       "              '__module__': '__main__',\n",
       "              '__annotations__': OrderedDict([('lat', float),\n",
       "                           ('long', float)]),\n",
       "              '_field_types': OrderedDict([('lat', float), ('long', float)]),\n",
       "              '_field_defaults': {'lat': 0, 'long': 0},\n",
       "              'reference_system': 'WGS84',\n",
       "              '__str__': <function __main__.Coordinate.__str__(self)>})"
      ]
     },
     "execution_count": 7,
     "metadata": {},
     "output_type": "execute_result"
    }
   ],
   "source": [
    "Coordinate.__dict__"
   ]
  },
  {
   "cell_type": "code",
   "execution_count": 8,
   "metadata": {},
   "outputs": [
    {
     "name": "stdout",
     "output_type": "stream",
     "text": [
      "lat : <property object at 0x10bc56868>\n",
      "long : <property object at 0x10bc568b8>\n",
      "reference_system : WGS84\n"
     ]
    }
   ],
   "source": [
    "for k, v in Coordinate.__dict__.items():\n",
    "    if not k.startswith('_'):\n",
    "        print(k,':', v)"
   ]
  },
  {
   "cell_type": "code",
   "execution_count": 9,
   "metadata": {},
   "outputs": [
    {
     "name": "stdout",
     "output_type": "stream",
     "text": [
      "41.4°N, 81.8°W\n"
     ]
    }
   ],
   "source": [
    "cle = Coordinate(41.40, -81.85)\n",
    "print(cle)"
   ]
  },
  {
   "cell_type": "code",
   "execution_count": 10,
   "metadata": {},
   "outputs": [
    {
     "name": "stdout",
     "output_type": "stream",
     "text": [
      "can't set attribute\n"
     ]
    }
   ],
   "source": [
    "try:\n",
    "    cle.lat = 0\n",
    "except AttributeError as e:\n",
    "    print(e)"
   ]
  },
  {
   "cell_type": "code",
   "execution_count": 11,
   "metadata": {},
   "outputs": [
    {
     "data": {
      "text/plain": [
       "'WGS84'"
      ]
     },
     "execution_count": 11,
     "metadata": {},
     "output_type": "execute_result"
    }
   ],
   "source": [
    "cle.reference_system"
   ]
  },
  {
   "cell_type": "code",
   "execution_count": 12,
   "metadata": {},
   "outputs": [
    {
     "name": "stdout",
     "output_type": "stream",
     "text": [
      "'Coordinate' object attribute 'reference_system' is read-only\n"
     ]
    }
   ],
   "source": [
    "try:\n",
    "    cle.reference_system = 'X'\n",
    "except AttributeError as e:\n",
    "    print(e)"
   ]
  },
  {
   "cell_type": "markdown",
   "metadata": {},
   "source": [
    "## @dataclass\n",
    "\n",
    "### Coordinate as dataclass"
   ]
  },
  {
   "cell_type": "code",
   "execution_count": 30,
   "metadata": {},
   "outputs": [],
   "source": [
    "from dataclasses import dataclass\n",
    "\n",
    "from typing import ClassVar\n",
    "\n",
    "@dataclass(frozen=True)\n",
    "class Coordinate:\n",
    "    lat: float\n",
    "    long: float = 0\n",
    "        \n",
    "    reference_system: ClassVar[str] = 'WGS84'\n",
    "\n",
    "    def __str__(self):\n",
    "        ns = 'NS'[self.lat < 0]\n",
    "        we = 'EW'[self.long < 0]\n",
    "        return f'{abs(self.lat):.1f}°{ns}, {abs(self.long):.1f}°{we}'"
   ]
  },
  {
   "cell_type": "code",
   "execution_count": 14,
   "metadata": {},
   "outputs": [
    {
     "name": "stdout",
     "output_type": "stream",
     "text": [
      "long : 0\n",
      "reference_system : WGS84\n"
     ]
    }
   ],
   "source": [
    "for k, v in Coordinate.__dict__.items():\n",
    "    if not k.startswith('_'):\n",
    "        print(k,':', v)"
   ]
  },
  {
   "cell_type": "code",
   "execution_count": 31,
   "metadata": {},
   "outputs": [
    {
     "data": {
      "text/plain": [
       "Coordinate(lat=41.4, long=-81.85)"
      ]
     },
     "execution_count": 31,
     "metadata": {},
     "output_type": "execute_result"
    }
   ],
   "source": [
    "cle = Coordinate(41.40, -81.85)\n",
    "cle"
   ]
  },
  {
   "cell_type": "code",
   "execution_count": 33,
   "metadata": {},
   "outputs": [
    {
     "name": "stdout",
     "output_type": "stream",
     "text": [
      "41.4°N, 81.8°W\n"
     ]
    }
   ],
   "source": [
    "print(cle)"
   ]
  },
  {
   "cell_type": "code",
   "execution_count": 34,
   "metadata": {},
   "outputs": [
    {
     "ename": "FrozenInstanceError",
     "evalue": "cannot assign to field 'lat'",
     "output_type": "error",
     "traceback": [
      "\u001b[0;31m---------------------------------------------------------------------------\u001b[0m",
      "\u001b[0;31mFrozenInstanceError\u001b[0m                       Traceback (most recent call last)",
      "\u001b[0;32m<ipython-input-34-da0b323bfe47>\u001b[0m in \u001b[0;36m<module>\u001b[0;34m\u001b[0m\n\u001b[0;32m----> 1\u001b[0;31m \u001b[0mcle\u001b[0m\u001b[0;34m.\u001b[0m\u001b[0mlat\u001b[0m \u001b[0;34m=\u001b[0m \u001b[0;36m0.0\u001b[0m\u001b[0;34m\u001b[0m\u001b[0;34m\u001b[0m\u001b[0m\n\u001b[0m",
      "\u001b[0;32m<string>\u001b[0m in \u001b[0;36m__setattr__\u001b[0;34m(self, name, value)\u001b[0m\n",
      "\u001b[0;31mFrozenInstanceError\u001b[0m: cannot assign to field 'lat'"
     ]
    }
   ],
   "source": [
    "cle.lat = 0.0"
   ]
  },
  {
   "cell_type": "markdown",
   "metadata": {},
   "source": [
    "### @dataclass options\n",
    "\n",
    "```\n",
    "@dataclasses.dataclass(*, \n",
    "    init=True, repr=True, eq=True, order=False, unsafe_hash=False, frozen=False)\n",
    "```\n",
    "\n",
    "<table>\n",
    "<tr><th>option</th><th>default</th><th style=\"text-align: left;\">meaning</th></tr>\n",
    "<tr><td>init</td><td>True</td>\n",
    "    <td style=\"text-align: left;\">generate <code>__init__</code>¹</td></tr>\n",
    "<tr><td>repr</td><td>True</td>\n",
    "    <td style=\"text-align: left;\">generate <code>__repr__</code>¹</td></tr>\n",
    "<tr><td>eq</td><td>True</td>\n",
    "    <td style=\"text-align: left;\">generate <code>__eq__</code>¹</td></tr>\n",
    "<tr><td>order</td><td>False</td>\n",
    "    <td style=\"text-align: left;\">generate <code>__lt__</code>, <code>__le__</code>, <code>__gt__</code>, <code>__ge__</code>²</td></tr>\n",
    "<tr><td>unsafe_hash</td><td>False</td>\n",
    "    <td style=\"text-align: left;\">generate <code>__hash__</code>³</td></tr>\n",
    "<tr><td>frozen</td><td>False</td>\n",
    "    <td style=\"text-align: left;\">make instances \"immutable\" ⁴</td></tr>\n",
    "</table>\n",
    "\n",
    "**Notes**\n",
    "\n",
    "¹ Ignored if the special method is implemented by user.<br>\n",
    "² Raises exceptions if ``eq=False`` or any of the listed special methods are implemented by user.<br>\n",
    "³ Complex semantics and several caveats — see: [dataclass documentation](https://docs.python.org/3/library/dataclasses.html#dataclasses.dataclass).<br>\n",
    "⁴ Not really immutable — imutability is emulated generating ``__setattr__`` and ``__delattr__`` which raise ``dataclass.FrozenInstanceError`` (a subclass of ``AttributeError``)."
   ]
  },
  {
   "cell_type": "markdown",
   "metadata": {},
   "source": [
    "### Example: a Dublin Core resource dataclass"
   ]
  },
  {
   "cell_type": "code",
   "execution_count": 23,
   "metadata": {},
   "outputs": [],
   "source": [
    "from dataclasses import dataclass, field, fields\n",
    "from typing import List\n",
    "\n",
    "@dataclass\n",
    "class Resource:\n",
    "    \"\"\"Media resource description.\"\"\"\n",
    "    identifier: str = \"0\" * 13\n",
    "    title: str = \"<untitled>\"\n",
    "    creators: List[str] = field(default_factory=list)\n",
    "    date: str = \"\"\n",
    "    type: str = \"\"\n",
    "    description: str = \"\"\n",
    "    language: str = \"\"\n",
    "    subjects: List[str] = field(default_factory=list)\n",
    "\n",
    "\n",
    "    def __repr__(self):\n",
    "        cls = self.__class__\n",
    "        cls_name = cls.__name__\n",
    "        res = [f'{cls_name}(']\n",
    "        for field in fields(cls):\n",
    "            value = getattr(self, field.name)\n",
    "            res.append(f'    {field.name} = {value!r},')\n",
    "        res.append(f')')\n",
    "        return '\\n'.join(res)"
   ]
  },
  {
   "cell_type": "code",
   "execution_count": 24,
   "metadata": {},
   "outputs": [
    {
     "data": {
      "text/plain": [
       "Resource(\n",
       "    identifier = '9781491946008',\n",
       "    title = 'Fluent Python',\n",
       "    creators = ['Luciano Ramalho'],\n",
       "    date = '2015-08-20',\n",
       "    type = 'book',\n",
       "    description = 'A hands-on guide to idiomatic Python code.',\n",
       "    language = 'EN',\n",
       "    subjects = ['computer programming', 'Python'],\n",
       ")"
      ]
     },
     "execution_count": 24,
     "metadata": {},
     "output_type": "execute_result"
    }
   ],
   "source": [
    "description = 'A hands-on guide to idiomatic Python code.'\n",
    "book = Resource('9781491946008', 'Fluent Python', \n",
    "    ['Luciano Ramalho'], '2015-08-20', 'book', description,\n",
    "    'EN', ['computer programming', 'Python'])\n",
    "book"
   ]
  },
  {
   "cell_type": "code",
   "execution_count": 26,
   "metadata": {},
   "outputs": [],
   "source": [
    "book2 = eval(repr(book))"
   ]
  },
  {
   "cell_type": "code",
   "execution_count": 28,
   "metadata": {},
   "outputs": [
    {
     "data": {
      "text/plain": [
       "True"
      ]
     },
     "execution_count": 28,
     "metadata": {},
     "output_type": "execute_result"
    }
   ],
   "source": [
    "book2 == book"
   ]
  },
  {
   "cell_type": "code",
   "execution_count": 19,
   "metadata": {},
   "outputs": [
    {
     "data": {
      "text/plain": [
       "Resource(\n",
       "    identifier = '0000000000000',\n",
       "    title = '<untitled>',\n",
       "    creators = [],\n",
       "    date = '',\n",
       "    type = '',\n",
       "    description = '',\n",
       "    language = '',\n",
       "    subjects = [],\n",
       ")"
      ]
     },
     "execution_count": 19,
     "metadata": {},
     "output_type": "execute_result"
    }
   ],
   "source": [
    "empty = Resource()\n",
    "empty"
   ]
  },
  {
   "cell_type": "markdown",
   "metadata": {},
   "source": [
    "### See docs for the field function"
   ]
  },
  {
   "cell_type": "code",
   "execution_count": 29,
   "metadata": {},
   "outputs": [],
   "source": [
    "field?"
   ]
  },
  {
   "cell_type": "markdown",
   "metadata": {},
   "source": [
    "<img src=\"img/thoughtworks.png\" width=\"300\" title=\"ThoughtWorks, Inc. logo\">"
   ]
  }
 ],
 "metadata": {
  "kernelspec": {
   "display_name": "Python 3",
   "language": "python",
   "name": "python3"
  },
  "language_info": {
   "codemirror_mode": {
    "name": "ipython",
    "version": 3
   },
   "file_extension": ".py",
   "mimetype": "text/x-python",
   "name": "python",
   "nbconvert_exporter": "python",
   "pygments_lexer": "ipython3",
   "version": "3.7.1"
  }
 },
 "nbformat": 4,
 "nbformat_minor": 2
}
