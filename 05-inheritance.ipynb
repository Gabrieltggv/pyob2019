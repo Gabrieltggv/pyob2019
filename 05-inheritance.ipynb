{
 "cells": [
  {
   "cell_type": "markdown",
   "metadata": {},
   "source": [
    "# Inheritance\n",
    "\n",
    "## A classic example\n",
    "\n",
    "<img src=\"img/finstory-spec.png\" width=\"600\">"
   ]
  },
  {
   "cell_type": "markdown",
   "metadata": {},
   "source": [
    "<img src=\"img/finstory-UML.png\" width=\"600\">"
   ]
  },
  {
   "cell_type": "markdown",
   "metadata": {},
   "source": [
    "### Code review"
   ]
  },
  {
   "cell_type": "markdown",
   "metadata": {},
   "source": [
    "See source code at [/examples/finstory/](https://github.com/fluentpython/pyob2019/tree/master/examples/finstory)"
   ]
  },
  {
   "cell_type": "markdown",
   "metadata": {},
   "source": [
    "## Sidebar: floats & decimals"
   ]
  },
  {
   "cell_type": "code",
   "execution_count": 1,
   "metadata": {},
   "outputs": [],
   "source": [
    "x = 1.1"
   ]
  },
  {
   "cell_type": "code",
   "execution_count": 2,
   "metadata": {},
   "outputs": [
    {
     "name": "stdout",
     "output_type": "stream",
     "text": [
      "1.1\n"
     ]
    }
   ],
   "source": [
    "print(x)"
   ]
  },
  {
   "cell_type": "code",
   "execution_count": 3,
   "metadata": {},
   "outputs": [
    {
     "name": "stdout",
     "output_type": "stream",
     "text": [
      "1.10000000000000008882\n"
     ]
    }
   ],
   "source": [
    "print(f'{x:.20f}')"
   ]
  },
  {
   "cell_type": "code",
   "execution_count": 4,
   "metadata": {},
   "outputs": [
    {
     "data": {
      "text/plain": [
       "Decimal('1.100000000000000088817841970012523233890533447265625')"
      ]
     },
     "execution_count": 4,
     "metadata": {},
     "output_type": "execute_result"
    }
   ],
   "source": [
    "from decimal import Decimal\n",
    "Decimal(x)"
   ]
  },
  {
   "cell_type": "markdown",
   "metadata": {},
   "source": [
    "### A solution for business applications\n",
    "\n",
    "We want to accept `float` as input and we want to use `Decimal` in our own calculations, but we don't want to preserve the IEEE 754 errors with full precision.\n",
    "\n",
    "Therefore, we will covert any `float` to `str`:"
   ]
  },
  {
   "cell_type": "code",
   "execution_count": 5,
   "metadata": {},
   "outputs": [
    {
     "data": {
      "text/plain": [
       "Decimal('1.1')"
      ]
     },
     "execution_count": 5,
     "metadata": {},
     "output_type": "execute_result"
    }
   ],
   "source": [
    "Decimal(str(x))"
   ]
  },
  {
   "cell_type": "markdown",
   "metadata": {},
   "source": [
    "To handle inputs, we will use this function:"
   ]
  },
  {
   "cell_type": "code",
   "execution_count": 6,
   "metadata": {},
   "outputs": [
    {
     "data": {
      "text/plain": [
       "Decimal('1.1')"
      ]
     },
     "execution_count": 6,
     "metadata": {},
     "output_type": "execute_result"
    }
   ],
   "source": [
    "import decimal\n",
    "\n",
    "def new_decimal(value):\n",
    "    \"\"\"Builds a Decimal using the cleaner float `repr`\"\"\"\n",
    "    if isinstance(value, float):\n",
    "        value = repr(value)\n",
    "    return decimal.Decimal(value)\n",
    "\n",
    "\n",
    "new_decimal(1.1)"
   ]
  },
  {
   "cell_type": "markdown",
   "metadata": {},
   "source": [
    "## More examples\n",
    "\n",
    "### Variations on a bingo machine\n",
    "\n",
    "* [Bingo](https://github.com/fluentpython/pyob2019/tree/master/examples/bingo): a simple bingo machine.\n",
    "* [Tombola ABC](https://github.com/fluentpython/pyob2019/blob/master/examples/tombola/tombola.py): Abstract Base Class for bingo machines.\n",
    "* [BingoCage](https://github.com/fluentpython/pyob2019/blob/master/examples/tombola/bingo.py): an implementation of ``Tombola`` using composition.\n",
    "* [TumblingDrum](https://github.com/fluentpython/pyob2019/blob/master/examples/tombola/drum.py): another implementation of ``Tombola`` using composition.\n",
    "* [LotteryBlower](https://github.com/fluentpython/pyob2019/blob/master/examples/tombola/lotto.py): yet another implementation of ``Tombola`` using composition.\n",
    "* [Tombolist](https://github.com/fluentpython/pyob2019/blob/master/examples/tombola/tombolist.py): a ``list`` subclass registered as a virtual subclass of ``Tombola``"
   ]
  },
  {
   "cell_type": "markdown",
   "metadata": {},
   "source": [
    "## Key takeaways\n",
    "\n",
    "* Understand the difference between *interface inheritance* and *implementation inheritance*.\n",
    "\n",
    "* Understand that *interface inheritance* and *implementation inheritance* happen at the same time when you subclass a concrete class.\n",
    "\n",
    "* Avoid inheriting from concrete classes.\n",
    "\n",
    "* Beware of non-virtual calls in built-ins. To be safe, use [collections.UserList](https://docs.python.org/3/library/collections.html#collections.UserList) & co.\n",
    "\n",
    "* *Favor object composition over class inheritance. (Gang of Four)*"
   ]
  },
  {
   "cell_type": "markdown",
   "metadata": {},
   "source": [
    "<img src=\"img/thoughtworks.png\" width=\"300\" title=\"ThoughtWorks, Inc. logo\">"
   ]
  }
 ],
 "metadata": {
  "kernelspec": {
   "display_name": "Python 3",
   "language": "python",
   "name": "python3"
  },
  "language_info": {
   "codemirror_mode": {
    "name": "ipython",
    "version": 3
   },
   "file_extension": ".py",
   "mimetype": "text/x-python",
   "name": "python",
   "nbconvert_exporter": "python",
   "pygments_lexer": "ipython3",
   "version": "3.7.1"
  }
 },
 "nbformat": 4,
 "nbformat_minor": 2
}
