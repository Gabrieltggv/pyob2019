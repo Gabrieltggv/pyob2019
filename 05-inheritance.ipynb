{
 "cells": [
  {
   "cell_type": "markdown",
   "metadata": {},
   "source": [
    "# Inheritance\n",
    "\n",
    "## A classic example\n",
    "\n",
    "<img src=\"img/finstory-spec.png\" width=\"600\">"
   ]
  },
  {
   "cell_type": "markdown",
   "metadata": {},
   "source": [
    "<img src=\"img/finstory-UML.png\" width=\"600\">"
   ]
  },
  {
   "cell_type": "markdown",
   "metadata": {},
   "source": [
    "See source code at [/examples/finstory/](https://github.com/ramalho/pyob/tree/master/examples/finstory)"
   ]
  },
  {
   "cell_type": "markdown",
   "metadata": {},
   "source": [
    "## Variations on a bingo machine\n",
    "\n",
    "* [Bingo](https://github.com/ramalho/pyob/tree/master/examples/bingo): a simple bingo machine.\n",
    "* [Tombola ABC](https://github.com/ramalho/pyob/blob/master/examples/tombola/tombola.py): Abstract Base Class for bingo machines.\n",
    "* [BingoCage](https://github.com/ramalho/pyob/blob/master/examples/tombola/bingo.py): an implementation of ``Tombola`` using composition.\n",
    "* [TumblingDrum](https://github.com/ramalho/pyob/blob/master/examples/tombola/drum.py): another implementation of ``Tombola`` using composition.\n",
    "* [LotteryBlower](https://github.com/ramalho/pyob/blob/master/examples/tombola/lotto.py): yet another implementation of ``Tombola`` using composition.\n",
    "* [Tombolist](https://github.com/ramalho/pyob/blob/master/examples/tombola/tombolist.py): a ``list`` subclass registered as a virtual subclass of ``Tombola``"
   ]
  },
  {
   "cell_type": "markdown",
   "metadata": {},
   "source": [
    "## Key takeaways\n",
    "\n",
    "* Understand the difference between *interface inheritance* and *implementation inheritance*.\n",
    "\n",
    "* Understand that *interface inheritance* and *implementation inheritance* happen at the same time when you subclass a concrete class.\n",
    "\n",
    "* Avoid inheriting from concrete classes.\n",
    "\n",
    "* Beware of non-virtual calls in built-ins. To be safe, use [collections.UserList](https://docs.python.org/3/library/collections.html#collections.UserList) & co.\n",
    "\n",
    "* *Favor object composition over class inheritance. (Gang of Four)*"
   ]
  }
 ],
 "metadata": {
  "kernelspec": {
   "display_name": "Python 3",
   "language": "python",
   "name": "python3"
  },
  "language_info": {
   "codemirror_mode": {
    "name": "ipython",
    "version": 3
   },
   "file_extension": ".py",
   "mimetype": "text/x-python",
   "name": "python",
   "nbconvert_exporter": "python",
   "pygments_lexer": "ipython3",
   "version": "3.7.3"
  }
 },
 "nbformat": 4,
 "nbformat_minor": 2
}
