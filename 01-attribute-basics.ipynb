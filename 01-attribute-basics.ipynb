{
 "cells": [
  {
   "cell_type": "markdown",
   "metadata": {},
   "source": [
    "<img src=\"img/title-card.png\" width=\"720\" title=\"ThoughtWorks presents Pythonic Objects by Luciano Ramalho\">"
   ]
  },
  {
   "cell_type": "markdown",
   "metadata": {},
   "source": [
    "# Attribute basics\n",
    "\n",
    "## Smalltalk class declaration\n",
    "\n",
    "<img src=\"img/finhist-browser.png\" width=\"720\" title=\"Smallalk-80 class browser\">\n",
    "\n",
    "**Figure 17.17 from Smalltalk-80, the language**\n",
    "<br>Class browser showing definition of a ``FinancialHistory`` class with three instance variables: ``cashOnHand``, ``incomes``, and ``expenditures``.\n",
    "\n",
    "## Official Java tutorial\n",
    "\n",
    "The next two figures are from the **Java Tutorial (Sun/Oracle)**, section [What is an object?](https://docs.oracle.com/javase/tutorial/java/concepts/object.html).\n",
    "\n",
    "<img src=\"img/concepts-object.gif\" title=\"An object\">\n",
    "\n",
    "An object is depicted as fields surrounded by methods. \n",
    "\n",
    "<img src=\"img/concepts-bicycleObject.gif\" title=\"A bicycle object\">\n",
    "\n",
    "An object representing a bicyle has methods such as *Change gear* and *Brake*, and fields such as *speed* and *cadence*.\n",
    "\n",
    "Code from section [[What is a class?](https://docs.oracle.com/javase/tutorial/java/concepts/class.html) from the **Java Tutorial**.\n",
    "\n",
    "```java\n",
    "class Bicycle {\n",
    "\n",
    "    int cadence = 0;\n",
    "    int speed = 0;\n",
    "    int gear = 1;\n",
    "\n",
    "    void changeCadence(int newValue) {\n",
    "         cadence = newValue;\n",
    "    }\n",
    "    \n",
    "    //...\n",
    "}    \n",
    "```\n",
    "\n",
    "\n",
    "## Python before ``typing``\n",
    "\n",
    "* No way to declare variables (except function arguments).\n",
    "* First assignment is the \"declaration\".\n",
    "* ORMs use *descriptors* to declare fields (eg. Django, SQLAlchemy)\n",
    "\n",
    "### Descriptor examples\n",
    "\n",
    "From [Django Models](https://docs.djangoproject.com/en/2.2/topics/db/models/):\n",
    "\n",
    "```python\n",
    "from django.db import models\n",
    "\n",
    "class Musician(models.Model):\n",
    "    first_name = models.CharField(max_length=50)\n",
    "    last_name = models.CharField(max_length=50)\n",
    "    instrument = models.CharField(max_length=100)\n",
    "\n",
    "class Album(models.Model):\n",
    "    artist = models.ForeignKey(Musician, on_delete=models.CASCADE)\n",
    "    name = models.CharField(max_length=100)\n",
    "    release_date = models.DateField()\n",
    "    num_stars = models.IntegerField()\n",
    "```\n",
    "\n",
    "----\n",
    "\n",
    "From [SQL Alquemy Object Relational Tutorial](https://docs.sqlalchemy.org/en/13/orm/tutorial.html):\n",
    "\n",
    "```python\n",
    "from sqlalchemy.ext.declarative import declarative_base\n",
    "from sqlalchemy import Column, Integer, String\n",
    "\n",
    "Base = declarative_base()\n",
    "\n",
    "class User(Base):\n",
    "    __tablename__ = 'users'\n",
    "\n",
    "    id = Column(Integer, primary_key=True)\n",
    "    name = Column(String)\n",
    "    fullname = Column(String)\n",
    "    nickname = Column(String)\n",
    "\n",
    "    def __repr__(self):\n",
    "       return \"<User(name='%s', fullname='%s', nickname='%s')>\" % (\n",
    "                            self.name, self.fullname, self.nickname)\n",
    "```"
   ]
  },
  {
   "cell_type": "code",
   "execution_count": 4,
   "metadata": {},
   "outputs": [
    {
     "name": "stdout",
     "output_type": "stream",
     "text": [
      "3.7.3 (default, Mar 27 2019, 16:54:48) \n",
      "[Clang 4.0.1 (tags/RELEASE_401/final)]\n"
     ]
    }
   ],
   "source": [
    "import sys\n",
    "print(sys.version)"
   ]
  },
  {
   "cell_type": "markdown",
   "metadata": {},
   "source": [
    "## A simplistic class"
   ]
  },
  {
   "cell_type": "code",
   "execution_count": 5,
   "metadata": {},
   "outputs": [],
   "source": [
    "class Coordinate:\n",
    "    '''Coordinate on Earth'''"
   ]
  },
  {
   "cell_type": "code",
   "execution_count": 6,
   "metadata": {},
   "outputs": [
    {
     "data": {
      "text/plain": [
       "<__main__.Coordinate at 0x10efa48d0>"
      ]
     },
     "execution_count": 6,
     "metadata": {},
     "output_type": "execute_result"
    }
   ],
   "source": [
    "cle = Coordinate()\n",
    "cle.lat = 41.411667\n",
    "cle.long = -81.849722\n",
    "cle"
   ]
  },
  {
   "cell_type": "markdown",
   "metadata": {},
   "source": [
    "## First method: ``__repr__``"
   ]
  },
  {
   "cell_type": "code",
   "execution_count": 27,
   "metadata": {},
   "outputs": [],
   "source": [
    "import geohash\n",
    "\n",
    "class Coordinate:\n",
    "    '''Coordinate on Earth'''\n",
    "        \n",
    "    def __repr__(self):\n",
    "        return f'Coordinate({self.lat}, {self.long})'   "
   ]
  },
  {
   "cell_type": "code",
   "execution_count": 32,
   "metadata": {},
   "outputs": [
    {
     "name": "stdout",
     "output_type": "stream",
     "text": [
      "'Coordinate' object has no attribute 'lat'\n"
     ]
    }
   ],
   "source": [
    "cle = Coordinate()\n",
    "try:\n",
    "    print(cle)\n",
    "except AttributeError as exc:\n",
    "    print(exc)"
   ]
  },
  {
   "cell_type": "markdown",
   "metadata": {},
   "source": [
    "> **Quick fix**: add class attributes to provide defaults."
   ]
  },
  {
   "cell_type": "code",
   "execution_count": 18,
   "metadata": {},
   "outputs": [],
   "source": [
    "import geohash\n",
    "\n",
    "class Coordinate:\n",
    "    '''Coordinate on Earth'''\n",
    "    \n",
    "    def __init__(self, lat=0.0, long=0.0):\n",
    "        self.lat = lat\n",
    "        self.long = long\n",
    "    \n",
    "    def __repr__(self):\n",
    "        return f'Coordinate({self.lat}, {self.long})'"
   ]
  },
  {
   "cell_type": "code",
   "execution_count": 14,
   "metadata": {},
   "outputs": [
    {
     "data": {
      "text/plain": [
       "Coordinate(41.411667, -81.849722)"
      ]
     },
     "execution_count": 14,
     "metadata": {},
     "output_type": "execute_result"
    }
   ],
   "source": [
    "cle = Coordinate(41.411667, -81.849722)\n",
    "cle"
   ]
  },
  {
   "cell_type": "code",
   "execution_count": 16,
   "metadata": {},
   "outputs": [],
   "source": [
    "import geohash\n",
    "\n",
    "class Coordinate:\n",
    "    '''Coordinate on Earth'''\n",
    "    \n",
    "    reference_system = 'WGS84'\n",
    "    \n",
    "    def __init__(self, lat, long):\n",
    "        self.lat = lat\n",
    "        self.long = long\n",
    "    \n",
    "    def __repr__(self):\n",
    "        return f'Coordinate({self.lat}, {self.long})'\n",
    "    \n",
    "    def __str__(self):\n",
    "        ns = 'NS'[self.lat < 0]\n",
    "        we = 'WE'[self.long < 0]\n",
    "        return f'{abs(self.lat):.1f}°{ns}, {abs(self.long):.1f}°{we}'\n",
    "    \n",
    "    def geohash(self):\n",
    "        return geohash.encode(self.lat, self.long)\n",
    "    "
   ]
  },
  {
   "cell_type": "code",
   "execution_count": 17,
   "metadata": {},
   "outputs": [
    {
     "data": {
      "text/plain": [
       "'dpmg96yb7npz'"
      ]
     },
     "execution_count": 17,
     "metadata": {},
     "output_type": "execute_result"
    }
   ],
   "source": [
    "cle = Coordinate(41.411667, -81.849722)\n",
    "cle.geohash()"
   ]
  },
  {
   "cell_type": "code",
   "execution_count": 14,
   "metadata": {},
   "outputs": [],
   "source": [
    "from dataclasses import InitVar\n",
    "from typing import ClassVar"
   ]
  },
  {
   "cell_type": "code",
   "execution_count": 10,
   "metadata": {},
   "outputs": [],
   "source": [
    "default_flavor = 'Cheese'\n",
    "\n",
    "class Pizza:\n",
    "    \n",
    "    def __init__(self, flavor1=default_flavor, flavor2=None):\n",
    "        self.flavor1 = flavor1\n",
    "        self.flavor2 = flavor2"
   ]
  },
  {
   "cell_type": "code",
   "execution_count": 13,
   "metadata": {},
   "outputs": [],
   "source": [
    "InitVar?"
   ]
  },
  {
   "cell_type": "markdown",
   "metadata": {},
   "source": [
    "----\n",
    "\n",
    "## dataclass options\n",
    "\n",
    "```\n",
    "@dataclasses.dataclass(*, \n",
    "    init=True, repr=True, eq=True, order=False, unsafe_hash=False, frozen=False)\n",
    "```\n",
    "\n",
    "<table>\n",
    "<tr><th>option</th><th>default</th><th style=\"text-align: left;\">meaning</th></tr>\n",
    "<tr><td>init</td><td>True</td>\n",
    "    <td style=\"text-align: left;\">generate <code>__init__</code>¹</td></tr>\n",
    "<tr><td>repr</td><td>True</td>\n",
    "    <td style=\"text-align: left;\">generate <code>__repr__</code>¹</td></tr>\n",
    "<tr><td>eq</td><td>True</td>\n",
    "    <td style=\"text-align: left;\">generate <code>__eq__</code>¹</td></tr>\n",
    "<tr><td>order</td><td>False</td>\n",
    "    <td style=\"text-align: left;\">generate <code>__lt__</code>, <code>__le__</code>, <code>__gt__</code>, <code>__ge__</code>²</td></tr>\n",
    "<tr><td>unsafe_hash</td><td>False</td>\n",
    "    <td style=\"text-align: left;\">generate <code>__hash__</code>³</td></tr>\n",
    "<tr><td>frozen</td><td>False</td>\n",
    "    <td style=\"text-align: left;\">make instances \"immutable\" ⁴</td></tr>\n",
    "</table>\n",
    "\n",
    "**Notes**\n",
    "\n",
    "¹ Ignored if the special method is implemented by user.<br>\n",
    "² Raises exceptions if ``eq=False`` or any of the listed special methods are implemented by user.<br>\n",
    "³ Complex semantics and several caveats — see: [dataclass documentation](https://docs.python.org/3/library/dataclasses.html#dataclasses.dataclass).<br>\n",
    "⁴ Not really immutable — imutability is emulated generating ``__setattr__`` and ``__delattr__`` which raise ``dataclass.FrozenInstanceError`` (a subclass of ``AttributeError``)."
   ]
  },
  {
   "cell_type": "code",
   "execution_count": null,
   "metadata": {},
   "outputs": [],
   "source": []
  },
  {
   "cell_type": "code",
   "execution_count": 17,
   "metadata": {},
   "outputs": [
    {
     "data": {
      "text/plain": [
       "(dataclasses.FrozenInstanceError,\n",
       " AttributeError,\n",
       " Exception,\n",
       " BaseException,\n",
       " object)"
      ]
     },
     "execution_count": 17,
     "metadata": {},
     "output_type": "execute_result"
    }
   ],
   "source": [
    "import dataclasses\n",
    "dataclasses.FrozenInstanceError.__mro__"
   ]
  },
  {
   "cell_type": "markdown",
   "metadata": {},
   "source": [
    "<img src=\"img/thoughtworks.png\" width=\"300\" title=\"ThoughtWorks, Inc. logo\">\n"
   ]
  },
  {
   "cell_type": "code",
   "execution_count": null,
   "metadata": {},
   "outputs": [],
   "source": []
  }
 ],
 "metadata": {
  "kernelspec": {
   "display_name": "Python 3",
   "language": "python",
   "name": "python3"
  },
  "language_info": {
   "codemirror_mode": {
    "name": "ipython",
    "version": 3
   },
   "file_extension": ".py",
   "mimetype": "text/x-python",
   "name": "python",
   "nbconvert_exporter": "python",
   "pygments_lexer": "ipython3",
   "version": "3.7.3"
  }
 },
 "nbformat": 4,
 "nbformat_minor": 2
}
