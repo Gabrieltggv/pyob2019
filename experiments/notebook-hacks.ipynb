{
 "cells": [
  {
   "cell_type": "code",
   "execution_count": 1,
   "metadata": {},
   "outputs": [],
   "source": [
    "import json\n",
    "with open('01-objects.ipynb') as fp:\n",
    "    nb = json.load(fp)\n",
    "\n",
    "assert nb['nbformat'], nb['nbformat_minor'] == (4, 2)"
   ]
  },
  {
   "cell_type": "code",
   "execution_count": 2,
   "metadata": {},
   "outputs": [],
   "source": [
    "cells = nb['cells']"
   ]
  },
  {
   "cell_type": "code",
   "execution_count": 3,
   "metadata": {},
   "outputs": [
    {
     "data": {
      "text/plain": [
       "107"
      ]
     },
     "execution_count": 3,
     "metadata": {},
     "output_type": "execute_result"
    }
   ],
   "source": [
    "len(cells)"
   ]
  },
  {
   "cell_type": "code",
   "execution_count": 4,
   "metadata": {},
   "outputs": [
    {
     "name": "stdout",
     "output_type": "stream",
     "text": [
      "* [Definitions](#Definitions)\n",
      "* [The attributes of an object](#The-attributes-of-an-object)\n",
      "* [The class of an object](#The-class-of-an-object)\n",
      "  * [A user-defined class](#A-user-defined-class)\n",
      "  * [Exercises](#Exercises)\n",
      "  * [Exercises](#Exercises)\n",
      "* [The identity of an object](#The-identity-of-an-object)\n",
      "* [Containers](#Containers)\n",
      "* [Flat sequences](#Flat-sequences)\n"
     ]
    }
   ],
   "source": [
    "for cell in cells:\n",
    "    if cell['cell_type'] != 'markdown':\n",
    "        continue\n",
    "    for line in cell['source']:\n",
    "        if line.startswith('##'):\n",
    "            mark, _, title = line.strip().partition(' ')\n",
    "            link = title.replace(' ', '-')\n",
    "            indent = ' ' * (len(mark)-2) * 2\n",
    "            print(f'{indent}* [{title}](#{link})')"
   ]
  },
  {
   "cell_type": "code",
   "execution_count": null,
   "metadata": {},
   "outputs": [],
   "source": []
  }
 ],
 "metadata": {
  "kernelspec": {
   "display_name": "Python 3",
   "language": "python",
   "name": "python3"
  },
  "language_info": {
   "codemirror_mode": {
    "name": "ipython",
    "version": 3
   },
   "file_extension": ".py",
   "mimetype": "text/x-python",
   "name": "python",
   "nbconvert_exporter": "python",
   "pygments_lexer": "ipython3",
   "version": "3.7.3"
  }
 },
 "nbformat": 4,
 "nbformat_minor": 2
}
