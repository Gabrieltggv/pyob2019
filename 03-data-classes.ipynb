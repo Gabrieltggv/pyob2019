{
 "cells": [
  {
   "cell_type": "markdown",
   "metadata": {},
   "source": [
    "# Data classes\n",
    "\n",
    "In this section we will cover Python featores to avoid boilerplate when creating classes that are essentially collections of fields, similar to a C struct or a database record.\n",
    "\n",
    "* ``collections.namedtuple``\n",
    "* ``typing.NamedTuple``\n",
    "* ``dataclasses.dataclass``"
   ]
  },
  {
   "cell_type": "markdown",
   "metadata": {},
   "source": [
    "## collections.nametuple"
   ]
  },
  {
   "cell_type": "code",
   "execution_count": null,
   "metadata": {},
   "outputs": [],
   "source": [
    "from collections import namedtuple\n",
    "\n",
    "Coordinate = namedtuple('Coordinate', 'lat long')\n",
    "cle = Coordinate(41.40, -81.85)\n",
    "cle"
   ]
  },
  {
   "cell_type": "markdown",
   "metadata": {},
   "source": [
    "Simple to use, and is a tuple, so you can do this:"
   ]
  },
  {
   "cell_type": "code",
   "execution_count": null,
   "metadata": {},
   "outputs": [],
   "source": [
    "latitude, longitude = cle\n",
    "latitude"
   ]
  },
  {
   "cell_type": "code",
   "execution_count": null,
   "metadata": {},
   "outputs": [],
   "source": [
    "longitude"
   ]
  },
  {
   "cell_type": "markdown",
   "metadata": {},
   "source": [
    "Includes ``__eq__`` that knows how to compare with tuples:"
   ]
  },
  {
   "cell_type": "code",
   "execution_count": null,
   "metadata": {},
   "outputs": [],
   "source": [
    "(latitude, longitude) == cle"
   ]
  },
  {
   "cell_type": "markdown",
   "metadata": {},
   "source": [
    "## namedtuple limitations\n",
    "\n",
    "* instances are immutable;\n",
    "* no simple way to implement custom methods."
   ]
  },
  {
   "cell_type": "markdown",
   "metadata": {},
   "source": [
    "## typing.NamedTuple\n",
    "\n",
    "Introduced in Python 3.5, with [PEP 526](https://www.python.org/dev/peps/pep-0526) variable annotation syntax added in Python 3.6."
   ]
  },
  {
   "cell_type": "code",
   "execution_count": null,
   "metadata": {},
   "outputs": [],
   "source": [
    "from typing import NamedTuple, ClassVar\n",
    "\n",
    "class Coordinate(NamedTuple):\n",
    "\n",
    "    lat: float = 0\n",
    "    long: float = 0\n",
    "        \n",
    "    reference_system = 'WGS84'\n",
    "\n",
    "    def __str__(self):\n",
    "        ns = 'NS'[self.lat < 0]\n",
    "        we = 'EW'[self.long < 0]\n",
    "        return f'{abs(self.lat):.1f}°{ns}, {abs(self.long):.1f}°{we}'"
   ]
  },
  {
   "cell_type": "code",
   "execution_count": null,
   "metadata": {},
   "outputs": [],
   "source": [
    "gulf_of_guinea = Coordinate()\n",
    "gulf_of_guinea"
   ]
  },
  {
   "cell_type": "code",
   "execution_count": null,
   "metadata": {},
   "outputs": [],
   "source": [
    "cle = Coordinate(41.40, -81.85)\n",
    "print(cle)"
   ]
  },
  {
   "cell_type": "code",
   "execution_count": null,
   "metadata": {},
   "outputs": [],
   "source": [
    "# cle.lat = 0"
   ]
  },
  {
   "cell_type": "code",
   "execution_count": null,
   "metadata": {},
   "outputs": [],
   "source": [
    "cle.reference_system"
   ]
  },
  {
   "cell_type": "code",
   "execution_count": null,
   "metadata": {},
   "outputs": [],
   "source": [
    "# cle.reference_system = 'X'"
   ]
  },
  {
   "cell_type": "markdown",
   "metadata": {},
   "source": [
    "## @dataclass\n",
    "\n",
    "### Coordinate as dataclass"
   ]
  },
  {
   "cell_type": "code",
   "execution_count": null,
   "metadata": {},
   "outputs": [],
   "source": [
    "from dataclasses import dataclass\n",
    "\n",
    "from typing import ClassVar\n",
    "\n",
    "@dataclass\n",
    "class Coordinate:\n",
    "    lat: float\n",
    "    long: float = 0\n",
    "        \n",
    "    reference_system: ClassVar[str] = 'WGS84'\n",
    "\n",
    "    def __str__(self):\n",
    "        ns = 'NS'[self.lat < 0]\n",
    "        we = 'EW'[self.long < 0]\n",
    "        return f'{abs(self.lat):.1f}°{ns}, {abs(self.long):.1f}°{we}'"
   ]
  },
  {
   "cell_type": "code",
   "execution_count": null,
   "metadata": {},
   "outputs": [],
   "source": [
    "cle = Coordinate(41.40, -81.85)\n",
    "cle"
   ]
  },
  {
   "cell_type": "code",
   "execution_count": null,
   "metadata": {},
   "outputs": [],
   "source": [
    "print(cle)"
   ]
  },
  {
   "cell_type": "code",
   "execution_count": null,
   "metadata": {},
   "outputs": [],
   "source": [
    "for k, v in Coordinate.__dict__.items():\n",
    "    print"
   ]
  },
  {
   "cell_type": "markdown",
   "metadata": {},
   "source": [
    "### @dataclass options\n",
    "\n",
    "```\n",
    "@dataclasses.dataclass(*, \n",
    "    init=True, repr=True, eq=True, order=False, unsafe_hash=False, frozen=False)\n",
    "```\n",
    "\n",
    "<table>\n",
    "<tr><th>option</th><th>default</th><th style=\"text-align: left;\">meaning</th></tr>\n",
    "<tr><td>init</td><td>True</td>\n",
    "    <td style=\"text-align: left;\">generate <code>__init__</code>¹</td></tr>\n",
    "<tr><td>repr</td><td>True</td>\n",
    "    <td style=\"text-align: left;\">generate <code>__repr__</code>¹</td></tr>\n",
    "<tr><td>eq</td><td>True</td>\n",
    "    <td style=\"text-align: left;\">generate <code>__eq__</code>¹</td></tr>\n",
    "<tr><td>order</td><td>False</td>\n",
    "    <td style=\"text-align: left;\">generate <code>__lt__</code>, <code>__le__</code>, <code>__gt__</code>, <code>__ge__</code>²</td></tr>\n",
    "<tr><td>unsafe_hash</td><td>False</td>\n",
    "    <td style=\"text-align: left;\">generate <code>__hash__</code>³</td></tr>\n",
    "<tr><td>frozen</td><td>False</td>\n",
    "    <td style=\"text-align: left;\">make instances \"immutable\" ⁴</td></tr>\n",
    "</table>\n",
    "\n",
    "**Notes**\n",
    "\n",
    "¹ Ignored if the special method is implemented by user.<br>\n",
    "² Raises exceptions if ``eq=False`` or any of the listed special methods are implemented by user.<br>\n",
    "³ Complex semantics and several caveats — see: [dataclass documentation](https://docs.python.org/3/library/dataclasses.html#dataclasses.dataclass).<br>\n",
    "⁴ Not really immutable — imutability is emulated generating ``__setattr__`` and ``__delattr__`` which raise ``dataclass.FrozenInstanceError`` (a subclass of ``AttributeError``)."
   ]
  },
  {
   "cell_type": "markdown",
   "metadata": {},
   "source": [
    "### A Dublin Core Resource dataclass"
   ]
  },
  {
   "cell_type": "code",
   "execution_count": null,
   "metadata": {},
   "outputs": [],
   "source": [
    "from dataclasses import dataclass, field, fields\n",
    "from typing import List\n",
    "\n",
    "@dataclass\n",
    "class Resource:\n",
    "    \"\"\"Media resource description.\"\"\"\n",
    "    identifier: str = \"0\" * 13\n",
    "    title: str = \"<untitled>\"\n",
    "    creators: List[str] = field(default_factory=list)\n",
    "    date: str = \"\"\n",
    "    type: str = \"\"\n",
    "    description: str = \"\"\n",
    "    language: str = \"\"\n",
    "    subjects: List[str] = field(default_factory=list)\n",
    "\n",
    "\n",
    "    def __repr__(self):\n",
    "        cls = self.__class__\n",
    "        cls_name = cls.__name__\n",
    "        res = [f'{cls_name}(']\n",
    "        for field in fields(cls):\n",
    "            value = getattr(self, field.name)\n",
    "            res.append(f'    {field.name} = {value!r},')\n",
    "        res.append(f')')\n",
    "        return '\\n'.join(res)"
   ]
  },
  {
   "cell_type": "code",
   "execution_count": null,
   "metadata": {},
   "outputs": [],
   "source": [
    "description = 'A hands-on guide to idiomatic Python code.'\n",
    "book = Resource('9781491946008', 'Fluent Python', \n",
    "    ['Luciano Ramalho'], '2015-08-20', 'book', description,\n",
    "    'EN', ['computer programming', 'Python'])\n",
    "book"
   ]
  },
  {
   "cell_type": "code",
   "execution_count": null,
   "metadata": {},
   "outputs": [],
   "source": [
    "empty = Resource()\n",
    "empty"
   ]
  },
  {
   "cell_type": "markdown",
   "metadata": {},
   "source": [
    "### See docs for the field function"
   ]
  },
  {
   "cell_type": "code",
   "execution_count": null,
   "metadata": {},
   "outputs": [],
   "source": [
    "#field?"
   ]
  },
  {
   "cell_type": "markdown",
   "metadata": {},
   "source": [
    "<img src=\"img/thoughtworks.png\" width=\"300\" title=\"ThoughtWorks, Inc. logo\">"
   ]
  }
 ],
 "metadata": {
  "kernelspec": {
   "display_name": "Python 3",
   "language": "python",
   "name": "python3"
  },
  "language_info": {
   "codemirror_mode": {
    "name": "ipython",
    "version": 3
   },
   "file_extension": ".py",
   "mimetype": "text/x-python",
   "name": "python",
   "nbconvert_exporter": "python",
   "pygments_lexer": "ipython3",
   "version": "3.7.3"
  }
 },
 "nbformat": 4,
 "nbformat_minor": 2
}
